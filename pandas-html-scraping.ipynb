{
 "cells": [
  {
   "cell_type": "markdown",
   "metadata": {},
   "source": [
    "# Scraping an HTML table into a Pandas dataframe\n",
    "With basically two statements!"
   ]
  },
  {
   "cell_type": "code",
   "execution_count": 1,
   "metadata": {},
   "outputs": [],
   "source": [
    "import pandas as pd\n",
    "import requests # a user-friendly web package"
   ]
  },
  {
   "cell_type": "markdown",
   "metadata": {},
   "source": [
    "Step 1: Download a web page.  (The example below is good because the raw data is potentially very useful for further computation, but the page is larded with graphics and ads and whatnot.  Simple copy/paste not likely to work here.)"
   ]
  },
  {
   "cell_type": "code",
   "execution_count": 2,
   "metadata": {},
   "outputs": [],
   "source": [
    "page = requests.get(\"https://www.nationmaster.com/country-info/stats/Media/Internet-users\")\n",
    "\n",
    "# N.B.: page content is also cached locally:\n",
    "# page_content = open(\"scraping-example-cached.html\", mode=\"rb\").read()"
   ]
  },
  {
   "cell_type": "markdown",
   "metadata": {},
   "source": [
    "The response is an object that can be examined.  200 = OK."
   ]
  },
  {
   "cell_type": "code",
   "execution_count": 3,
   "metadata": {},
   "outputs": [
    {
     "data": {
      "text/plain": [
       "requests.models.Response"
      ]
     },
     "execution_count": 3,
     "metadata": {},
     "output_type": "execute_result"
    }
   ],
   "source": [
    "type(page)"
   ]
  },
  {
   "cell_type": "code",
   "execution_count": 4,
   "metadata": {},
   "outputs": [
    {
     "data": {
      "text/plain": [
       "200"
      ]
     },
     "execution_count": 4,
     "metadata": {},
     "output_type": "execute_result"
    }
   ],
   "source": [
    "page.status_code"
   ]
  },
  {
   "cell_type": "code",
   "execution_count": 5,
   "metadata": {},
   "outputs": [
    {
     "data": {
      "text/plain": [
       "b'\\n<!DOCTYPE HTML>\\n<html>\\n    <head>\\n        <meta charset=\"utf-8\">\\n        <meta http-equiv=\"X-UA-Compatible\" content=\"IE=edge,chrome=1\">\\n    \\n    \\n<script type=\"text/javascript\">;window._taboola=window._taboola||[];_taboola.push({category:\\'auto\\'});!function(e,f,u,i){if(!document.getElementById(i)){e.async=1;e.src=u;e.id=i;f.parentNode.insertBefore(e,f);}}(document.createElement(\\'script\\'),document.getElementsByTagName(\\'script\\')[0],\\'//cdn.taboola.com/libtrc/nationmaster/loader.js\\',\\'tb_loader_script\\');if(window.performance&&typeof window.performance.mark==\\'function\\'){window.performance.mark(\\'tbl_ic\\');}</script>\\n\\n        <title>Countries Compared by Media &gt; Internet users. International Statistics at NationMaster.com</title>\\n        <meta name=\"description\" content=\"\" />\\n        <meta name=\"author\" content=\"\">\\n        <meta name=\"viewport\" content=\"width=device-width,initial-scale=1, user-scalable=no\">\\n        \\n        <meta property=\"og:type\" content=\"website\">\\n        <meta property=\"'"
      ]
     },
     "execution_count": 5,
     "metadata": {},
     "output_type": "execute_result"
    }
   ],
   "source": [
    "page.content[:1000]"
   ]
  },
  {
   "cell_type": "markdown",
   "metadata": {},
   "source": [
    "Step 2: Have Pandas scan for tables and return a list of auto-constructed dataframes, one per table.  Lots of options here, check the documentation.  Caution: tables in the web page don't necessarily correspond to what you visually recognize as tables.  You need to look at the results, locate the dataframe you're after, then clean it up."
   ]
  },
  {
   "cell_type": "code",
   "execution_count": 6,
   "metadata": {},
   "outputs": [
    {
     "data": {
      "text/plain": [
       "2"
      ]
     },
     "execution_count": 6,
     "metadata": {},
     "output_type": "execute_result"
    }
   ],
   "source": [
    "frames = pd.read_html(page.content)\n",
    "len(frames)"
   ]
  },
  {
   "cell_type": "code",
   "execution_count": 7,
   "metadata": {},
   "outputs": [
    {
     "data": {
      "text/html": [
       "<div>\n",
       "<style scoped>\n",
       "    .dataframe tbody tr th:only-of-type {\n",
       "        vertical-align: middle;\n",
       "    }\n",
       "\n",
       "    .dataframe tbody tr th {\n",
       "        vertical-align: top;\n",
       "    }\n",
       "\n",
       "    .dataframe thead th {\n",
       "        text-align: right;\n",
       "    }\n",
       "</style>\n",
       "<table border=\"1\" class=\"dataframe\">\n",
       "  <thead>\n",
       "    <tr style=\"text-align: right;\">\n",
       "      <th></th>\n",
       "      <th>#</th>\n",
       "      <th>COUNTRY</th>\n",
       "      <th>AMOUNT</th>\n",
       "      <th>DATE</th>\n",
       "      <th>GRAPH</th>\n",
       "      <th>HISTORY</th>\n",
       "    </tr>\n",
       "  </thead>\n",
       "  <tbody>\n",
       "    <tr>\n",
       "      <th>0</th>\n",
       "      <td>1</td>\n",
       "      <td>China</td>\n",
       "      <td>389 million</td>\n",
       "      <td>2009</td>\n",
       "      <td>NaN</td>\n",
       "      <td>NaN</td>\n",
       "    </tr>\n",
       "    <tr>\n",
       "      <th>1</th>\n",
       "      <td>2</td>\n",
       "      <td>United States</td>\n",
       "      <td>245 million</td>\n",
       "      <td>2009</td>\n",
       "      <td>NaN</td>\n",
       "      <td>NaN</td>\n",
       "    </tr>\n",
       "    <tr>\n",
       "      <th>2</th>\n",
       "      <td>3</td>\n",
       "      <td>Japan</td>\n",
       "      <td>99.18 million</td>\n",
       "      <td>2009</td>\n",
       "      <td>NaN</td>\n",
       "      <td>NaN</td>\n",
       "    </tr>\n",
       "    <tr>\n",
       "      <th>3</th>\n",
       "      <td>NaN</td>\n",
       "      <td>Group of 7 countries (G7) average  (profile)</td>\n",
       "      <td>80.32 million</td>\n",
       "      <td>2009</td>\n",
       "      <td>NaN</td>\n",
       "      <td>NaN</td>\n",
       "    </tr>\n",
       "    <tr>\n",
       "      <th>4</th>\n",
       "      <td>4</td>\n",
       "      <td>Brazil</td>\n",
       "      <td>75.98 million</td>\n",
       "      <td>2009</td>\n",
       "      <td>NaN</td>\n",
       "      <td>NaN</td>\n",
       "    </tr>\n",
       "  </tbody>\n",
       "</table>\n",
       "</div>"
      ],
      "text/plain": [
       "     #                                       COUNTRY         AMOUNT  DATE  \\\n",
       "0    1                                         China    389 million  2009   \n",
       "1    2                                 United States    245 million  2009   \n",
       "2    3                                         Japan  99.18 million  2009   \n",
       "3  NaN  Group of 7 countries (G7) average  (profile)  80.32 million  2009   \n",
       "4    4                                        Brazil  75.98 million  2009   \n",
       "\n",
       "   GRAPH  HISTORY  \n",
       "0    NaN      NaN  \n",
       "1    NaN      NaN  \n",
       "2    NaN      NaN  \n",
       "3    NaN      NaN  \n",
       "4    NaN      NaN  "
      ]
     },
     "execution_count": 7,
     "metadata": {},
     "output_type": "execute_result"
    }
   ],
   "source": [
    "frames[0].head()"
   ]
  },
  {
   "cell_type": "code",
   "execution_count": 8,
   "metadata": {},
   "outputs": [
    {
     "data": {
      "text/html": [
       "<div>\n",
       "<style scoped>\n",
       "    .dataframe tbody tr th:only-of-type {\n",
       "        vertical-align: middle;\n",
       "    }\n",
       "\n",
       "    .dataframe tbody tr th {\n",
       "        vertical-align: top;\n",
       "    }\n",
       "\n",
       "    .dataframe thead th {\n",
       "        text-align: right;\n",
       "    }\n",
       "</style>\n",
       "<table border=\"1\" class=\"dataframe\">\n",
       "  <thead>\n",
       "    <tr style=\"text-align: right;\">\n",
       "      <th></th>\n",
       "      <th>STAT</th>\n",
       "      <th>COUNTRIES COVERED</th>\n",
       "    </tr>\n",
       "  </thead>\n",
       "  <tbody>\n",
       "    <tr>\n",
       "      <th>0</th>\n",
       "      <td>2008</td>\n",
       "      <td>17</td>\n",
       "    </tr>\n",
       "    <tr>\n",
       "      <th>1</th>\n",
       "      <td>Per 100 people</td>\n",
       "      <td>189</td>\n",
       "    </tr>\n",
       "  </tbody>\n",
       "</table>\n",
       "</div>"
      ],
      "text/plain": [
       "             STAT  COUNTRIES COVERED\n",
       "0            2008                 17\n",
       "1  Per 100 people                189"
      ]
     },
     "execution_count": 8,
     "metadata": {},
     "output_type": "execute_result"
    }
   ],
   "source": [
    "frames[1]"
   ]
  },
  {
   "cell_type": "code",
   "execution_count": 9,
   "metadata": {},
   "outputs": [],
   "source": [
    "# this is the dataframe we want\n",
    "df = frames[0]"
   ]
  },
  {
   "cell_type": "markdown",
   "metadata": {},
   "source": [
    "Start cleaning the data."
   ]
  },
  {
   "cell_type": "code",
   "execution_count": 10,
   "metadata": {},
   "outputs": [
    {
     "data": {
      "text/html": [
       "<div>\n",
       "<style scoped>\n",
       "    .dataframe tbody tr th:only-of-type {\n",
       "        vertical-align: middle;\n",
       "    }\n",
       "\n",
       "    .dataframe tbody tr th {\n",
       "        vertical-align: top;\n",
       "    }\n",
       "\n",
       "    .dataframe thead th {\n",
       "        text-align: right;\n",
       "    }\n",
       "</style>\n",
       "<table border=\"1\" class=\"dataframe\">\n",
       "  <thead>\n",
       "    <tr style=\"text-align: right;\">\n",
       "      <th></th>\n",
       "      <th>#</th>\n",
       "      <th>AMOUNT</th>\n",
       "      <th>DATE</th>\n",
       "      <th>GRAPH</th>\n",
       "      <th>HISTORY</th>\n",
       "    </tr>\n",
       "    <tr>\n",
       "      <th>COUNTRY</th>\n",
       "      <th></th>\n",
       "      <th></th>\n",
       "      <th></th>\n",
       "      <th></th>\n",
       "      <th></th>\n",
       "    </tr>\n",
       "  </thead>\n",
       "  <tbody>\n",
       "    <tr>\n",
       "      <th>China</th>\n",
       "      <td>1</td>\n",
       "      <td>389 million</td>\n",
       "      <td>2009</td>\n",
       "      <td>NaN</td>\n",
       "      <td>NaN</td>\n",
       "    </tr>\n",
       "    <tr>\n",
       "      <th>United States</th>\n",
       "      <td>2</td>\n",
       "      <td>245 million</td>\n",
       "      <td>2009</td>\n",
       "      <td>NaN</td>\n",
       "      <td>NaN</td>\n",
       "    </tr>\n",
       "    <tr>\n",
       "      <th>Japan</th>\n",
       "      <td>3</td>\n",
       "      <td>99.18 million</td>\n",
       "      <td>2009</td>\n",
       "      <td>NaN</td>\n",
       "      <td>NaN</td>\n",
       "    </tr>\n",
       "    <tr>\n",
       "      <th>Group of 7 countries (G7) average  (profile)</th>\n",
       "      <td>NaN</td>\n",
       "      <td>80.32 million</td>\n",
       "      <td>2009</td>\n",
       "      <td>NaN</td>\n",
       "      <td>NaN</td>\n",
       "    </tr>\n",
       "    <tr>\n",
       "      <th>Brazil</th>\n",
       "      <td>4</td>\n",
       "      <td>75.98 million</td>\n",
       "      <td>2009</td>\n",
       "      <td>NaN</td>\n",
       "      <td>NaN</td>\n",
       "    </tr>\n",
       "    <tr>\n",
       "      <th>...</th>\n",
       "      <td>...</td>\n",
       "      <td>...</td>\n",
       "      <td>...</td>\n",
       "      <td>...</td>\n",
       "      <td>...</td>\n",
       "    </tr>\n",
       "    <tr>\n",
       "      <th>Niue</th>\n",
       "      <td>214</td>\n",
       "      <td>1100</td>\n",
       "      <td>2009</td>\n",
       "      <td>NaN</td>\n",
       "      <td>NaN</td>\n",
       "    </tr>\n",
       "    <tr>\n",
       "      <th>Saint Helena, Ascension, and Tristan da Cunha</th>\n",
       "      <td>=215</td>\n",
       "      <td>900</td>\n",
       "      <td>2009</td>\n",
       "      <td>NaN</td>\n",
       "      <td>NaN</td>\n",
       "    </tr>\n",
       "    <tr>\n",
       "      <th>Saint Helena</th>\n",
       "      <td>=215</td>\n",
       "      <td>900</td>\n",
       "      <td>2009</td>\n",
       "      <td>NaN</td>\n",
       "      <td>NaN</td>\n",
       "    </tr>\n",
       "    <tr>\n",
       "      <th>Tokelau</th>\n",
       "      <td>217</td>\n",
       "      <td>800</td>\n",
       "      <td>2008</td>\n",
       "      <td>NaN</td>\n",
       "      <td>NaN</td>\n",
       "    </tr>\n",
       "    <tr>\n",
       "      <th>Christmas Island</th>\n",
       "      <td>218</td>\n",
       "      <td>464</td>\n",
       "      <td>2001</td>\n",
       "      <td>NaN</td>\n",
       "      <td>NaN</td>\n",
       "    </tr>\n",
       "  </tbody>\n",
       "</table>\n",
       "<p>249 rows × 5 columns</p>\n",
       "</div>"
      ],
      "text/plain": [
       "                                                  #         AMOUNT  DATE  \\\n",
       "COUNTRY                                                                    \n",
       "China                                             1    389 million  2009   \n",
       "United States                                     2    245 million  2009   \n",
       "Japan                                             3  99.18 million  2009   \n",
       "Group of 7 countries (G7) average  (profile)    NaN  80.32 million  2009   \n",
       "Brazil                                            4  75.98 million  2009   \n",
       "...                                             ...            ...   ...   \n",
       "Niue                                            214           1100  2009   \n",
       "Saint Helena, Ascension, and Tristan da Cunha  =215            900  2009   \n",
       "Saint Helena                                   =215            900  2009   \n",
       "Tokelau                                         217            800  2008   \n",
       "Christmas Island                                218            464  2001   \n",
       "\n",
       "                                               GRAPH  HISTORY  \n",
       "COUNTRY                                                        \n",
       "China                                            NaN      NaN  \n",
       "United States                                    NaN      NaN  \n",
       "Japan                                            NaN      NaN  \n",
       "Group of 7 countries (G7) average  (profile)     NaN      NaN  \n",
       "Brazil                                           NaN      NaN  \n",
       "...                                              ...      ...  \n",
       "Niue                                             NaN      NaN  \n",
       "Saint Helena, Ascension, and Tristan da Cunha    NaN      NaN  \n",
       "Saint Helena                                     NaN      NaN  \n",
       "Tokelau                                          NaN      NaN  \n",
       "Christmas Island                                 NaN      NaN  \n",
       "\n",
       "[249 rows x 5 columns]"
      ]
     },
     "execution_count": 10,
     "metadata": {},
     "output_type": "execute_result"
    }
   ],
   "source": [
    "df.set_index(\"COUNTRY\", inplace=True)\n",
    "df"
   ]
  },
  {
   "cell_type": "markdown",
   "metadata": {},
   "source": [
    "Let's discard the rows that represent aggregates."
   ]
  },
  {
   "cell_type": "code",
   "execution_count": 11,
   "metadata": {},
   "outputs": [
    {
     "data": {
      "text/html": [
       "<div>\n",
       "<style scoped>\n",
       "    .dataframe tbody tr th:only-of-type {\n",
       "        vertical-align: middle;\n",
       "    }\n",
       "\n",
       "    .dataframe tbody tr th {\n",
       "        vertical-align: top;\n",
       "    }\n",
       "\n",
       "    .dataframe thead th {\n",
       "        text-align: right;\n",
       "    }\n",
       "</style>\n",
       "<table border=\"1\" class=\"dataframe\">\n",
       "  <thead>\n",
       "    <tr style=\"text-align: right;\">\n",
       "      <th></th>\n",
       "      <th>#</th>\n",
       "      <th>AMOUNT</th>\n",
       "      <th>DATE</th>\n",
       "      <th>GRAPH</th>\n",
       "      <th>HISTORY</th>\n",
       "    </tr>\n",
       "    <tr>\n",
       "      <th>COUNTRY</th>\n",
       "      <th></th>\n",
       "      <th></th>\n",
       "      <th></th>\n",
       "      <th></th>\n",
       "      <th></th>\n",
       "    </tr>\n",
       "  </thead>\n",
       "  <tbody>\n",
       "    <tr>\n",
       "      <th>China</th>\n",
       "      <td>1</td>\n",
       "      <td>389 million</td>\n",
       "      <td>2009</td>\n",
       "      <td>NaN</td>\n",
       "      <td>NaN</td>\n",
       "    </tr>\n",
       "    <tr>\n",
       "      <th>United States</th>\n",
       "      <td>2</td>\n",
       "      <td>245 million</td>\n",
       "      <td>2009</td>\n",
       "      <td>NaN</td>\n",
       "      <td>NaN</td>\n",
       "    </tr>\n",
       "    <tr>\n",
       "      <th>Japan</th>\n",
       "      <td>3</td>\n",
       "      <td>99.18 million</td>\n",
       "      <td>2009</td>\n",
       "      <td>NaN</td>\n",
       "      <td>NaN</td>\n",
       "    </tr>\n",
       "    <tr>\n",
       "      <th>Brazil</th>\n",
       "      <td>4</td>\n",
       "      <td>75.98 million</td>\n",
       "      <td>2009</td>\n",
       "      <td>NaN</td>\n",
       "      <td>NaN</td>\n",
       "    </tr>\n",
       "    <tr>\n",
       "      <th>Germany</th>\n",
       "      <td>5</td>\n",
       "      <td>65.12 million</td>\n",
       "      <td>2010</td>\n",
       "      <td>NaN</td>\n",
       "      <td>NaN</td>\n",
       "    </tr>\n",
       "    <tr>\n",
       "      <th>...</th>\n",
       "      <td>...</td>\n",
       "      <td>...</td>\n",
       "      <td>...</td>\n",
       "      <td>...</td>\n",
       "      <td>...</td>\n",
       "    </tr>\n",
       "    <tr>\n",
       "      <th>Niue</th>\n",
       "      <td>214</td>\n",
       "      <td>1100</td>\n",
       "      <td>2009</td>\n",
       "      <td>NaN</td>\n",
       "      <td>NaN</td>\n",
       "    </tr>\n",
       "    <tr>\n",
       "      <th>Saint Helena, Ascension, and Tristan da Cunha</th>\n",
       "      <td>=215</td>\n",
       "      <td>900</td>\n",
       "      <td>2009</td>\n",
       "      <td>NaN</td>\n",
       "      <td>NaN</td>\n",
       "    </tr>\n",
       "    <tr>\n",
       "      <th>Saint Helena</th>\n",
       "      <td>=215</td>\n",
       "      <td>900</td>\n",
       "      <td>2009</td>\n",
       "      <td>NaN</td>\n",
       "      <td>NaN</td>\n",
       "    </tr>\n",
       "    <tr>\n",
       "      <th>Tokelau</th>\n",
       "      <td>217</td>\n",
       "      <td>800</td>\n",
       "      <td>2008</td>\n",
       "      <td>NaN</td>\n",
       "      <td>NaN</td>\n",
       "    </tr>\n",
       "    <tr>\n",
       "      <th>Christmas Island</th>\n",
       "      <td>218</td>\n",
       "      <td>464</td>\n",
       "      <td>2001</td>\n",
       "      <td>NaN</td>\n",
       "      <td>NaN</td>\n",
       "    </tr>\n",
       "  </tbody>\n",
       "</table>\n",
       "<p>218 rows × 5 columns</p>\n",
       "</div>"
      ],
      "text/plain": [
       "                                                  #         AMOUNT  DATE  \\\n",
       "COUNTRY                                                                    \n",
       "China                                             1    389 million  2009   \n",
       "United States                                     2    245 million  2009   \n",
       "Japan                                             3  99.18 million  2009   \n",
       "Brazil                                            4  75.98 million  2009   \n",
       "Germany                                           5  65.12 million  2010   \n",
       "...                                             ...            ...   ...   \n",
       "Niue                                            214           1100  2009   \n",
       "Saint Helena, Ascension, and Tristan da Cunha  =215            900  2009   \n",
       "Saint Helena                                   =215            900  2009   \n",
       "Tokelau                                         217            800  2008   \n",
       "Christmas Island                                218            464  2001   \n",
       "\n",
       "                                               GRAPH  HISTORY  \n",
       "COUNTRY                                                        \n",
       "China                                            NaN      NaN  \n",
       "United States                                    NaN      NaN  \n",
       "Japan                                            NaN      NaN  \n",
       "Brazil                                           NaN      NaN  \n",
       "Germany                                          NaN      NaN  \n",
       "...                                              ...      ...  \n",
       "Niue                                             NaN      NaN  \n",
       "Saint Helena, Ascension, and Tristan da Cunha    NaN      NaN  \n",
       "Saint Helena                                     NaN      NaN  \n",
       "Tokelau                                          NaN      NaN  \n",
       "Christmas Island                                 NaN      NaN  \n",
       "\n",
       "[218 rows x 5 columns]"
      ]
     },
     "execution_count": 11,
     "metadata": {},
     "output_type": "execute_result"
    }
   ],
   "source": [
    "df = df.loc[~df[\"#\"].isna()].copy() # copy not necessary, but silences spurious warning\n",
    "df"
   ]
  },
  {
   "cell_type": "code",
   "execution_count": 12,
   "metadata": {},
   "outputs": [
    {
     "name": "stdout",
     "output_type": "stream",
     "text": [
      "<class 'pandas.core.frame.DataFrame'>\n",
      "Index: 218 entries, China to Christmas Island\n",
      "Data columns (total 5 columns):\n",
      " #   Column   Non-Null Count  Dtype  \n",
      "---  ------   --------------  -----  \n",
      " 0   #        218 non-null    object \n",
      " 1   AMOUNT   218 non-null    object \n",
      " 2   DATE     218 non-null    int64  \n",
      " 3   GRAPH    0 non-null      float64\n",
      " 4   HISTORY  0 non-null      float64\n",
      "dtypes: float64(2), int64(1), object(2)\n",
      "memory usage: 10.2+ KB\n"
     ]
    }
   ],
   "source": [
    "df.info()"
   ]
  },
  {
   "cell_type": "markdown",
   "metadata": {},
   "source": [
    "The `AMOUNT` column is text (\"object\") because some column values contain the word \"million\" (note that Pandas made the entire column text, even those values that don't contain \"million\").  Let's convert this to numeric.\n",
    "\n",
    "First, identify and select just those values needing conversion.  Then we'll incrementally build up a transformation."
   ]
  },
  {
   "cell_type": "code",
   "execution_count": 13,
   "metadata": {},
   "outputs": [
    {
     "data": {
      "text/plain": [
       "COUNTRY\n",
       "China                      389 million\n",
       "United States              245 million\n",
       "Japan                    99.18 million\n",
       "Brazil                   75.98 million\n",
       "Germany                  65.12 million\n",
       "                             ...      \n",
       "Moldova                   1.29 million\n",
       "Paraguay                   1.1 million\n",
       "Bolivia                    1.1 million\n",
       "Kuwait                     1.1 million\n",
       "Republic of Macedonia     1.06 million\n",
       "Name: AMOUNT, Length: 97, dtype: object"
      ]
     },
     "execution_count": 13,
     "metadata": {},
     "output_type": "execute_result"
    }
   ],
   "source": [
    "subset = df.loc[df.AMOUNT.str.contains(\"million\"), \"AMOUNT\"]\n",
    "subset"
   ]
  },
  {
   "cell_type": "markdown",
   "metadata": {},
   "source": [
    "So we see that 97 of the 218 rows need converting.  Extract just the numeric portion of each value."
   ]
  },
  {
   "cell_type": "code",
   "execution_count": 14,
   "metadata": {},
   "outputs": [
    {
     "data": {
      "text/plain": [
       "COUNTRY\n",
       "China                      [389, million]\n",
       "United States              [245, million]\n",
       "Japan                    [99.18, million]\n",
       "Brazil                   [75.98, million]\n",
       "Germany                  [65.12, million]\n",
       "                               ...       \n",
       "Moldova                   [1.29, million]\n",
       "Paraguay                   [1.1, million]\n",
       "Bolivia                    [1.1, million]\n",
       "Kuwait                     [1.1, million]\n",
       "Republic of Macedonia     [1.06, million]\n",
       "Name: AMOUNT, Length: 97, dtype: object"
      ]
     },
     "execution_count": 14,
     "metadata": {},
     "output_type": "execute_result"
    }
   ],
   "source": [
    "subset.str.split(\" \")"
   ]
  },
  {
   "cell_type": "code",
   "execution_count": 15,
   "metadata": {},
   "outputs": [
    {
     "data": {
      "text/plain": [
       "COUNTRY\n",
       "China                      389\n",
       "United States              245\n",
       "Japan                    99.18\n",
       "Brazil                   75.98\n",
       "Germany                  65.12\n",
       "                         ...  \n",
       "Moldova                   1.29\n",
       "Paraguay                   1.1\n",
       "Bolivia                    1.1\n",
       "Kuwait                     1.1\n",
       "Republic of Macedonia     1.06\n",
       "Name: AMOUNT, Length: 97, dtype: object"
      ]
     },
     "execution_count": 15,
     "metadata": {},
     "output_type": "execute_result"
    }
   ],
   "source": [
    "subset.str.split(\" \").str.get(0)"
   ]
  },
  {
   "cell_type": "markdown",
   "metadata": {},
   "source": [
    "Here's the transformation we want."
   ]
  },
  {
   "cell_type": "code",
   "execution_count": 16,
   "metadata": {},
   "outputs": [
    {
     "data": {
      "text/plain": [
       "COUNTRY\n",
       "China                    389000000.0\n",
       "United States            245000000.0\n",
       "Japan                     99180000.0\n",
       "Brazil                    75980000.0\n",
       "Germany                   65120000.0\n",
       "                            ...     \n",
       "Moldova                    1290000.0\n",
       "Paraguay                   1100000.0\n",
       "Bolivia                    1100000.0\n",
       "Kuwait                     1100000.0\n",
       "Republic of Macedonia      1060000.0\n",
       "Name: AMOUNT, Length: 97, dtype: float64"
      ]
     },
     "execution_count": 16,
     "metadata": {},
     "output_type": "execute_result"
    }
   ],
   "source": [
    "revised_subset = subset.str.split(\" \").str.get(0).astype(float)*1e6\n",
    "revised_subset"
   ]
  },
  {
   "cell_type": "markdown",
   "metadata": {},
   "source": [
    "The following won't update the dataframe.  It will update `subset`, not `df`."
   ]
  },
  {
   "cell_type": "code",
   "execution_count": 17,
   "metadata": {},
   "outputs": [],
   "source": [
    "# won't work!!!\n",
    "# subset = revised_subset"
   ]
  },
  {
   "cell_type": "markdown",
   "metadata": {},
   "source": [
    "But this does:"
   ]
  },
  {
   "cell_type": "code",
   "execution_count": 18,
   "metadata": {},
   "outputs": [
    {
     "data": {
      "text/html": [
       "<div>\n",
       "<style scoped>\n",
       "    .dataframe tbody tr th:only-of-type {\n",
       "        vertical-align: middle;\n",
       "    }\n",
       "\n",
       "    .dataframe tbody tr th {\n",
       "        vertical-align: top;\n",
       "    }\n",
       "\n",
       "    .dataframe thead th {\n",
       "        text-align: right;\n",
       "    }\n",
       "</style>\n",
       "<table border=\"1\" class=\"dataframe\">\n",
       "  <thead>\n",
       "    <tr style=\"text-align: right;\">\n",
       "      <th></th>\n",
       "      <th>#</th>\n",
       "      <th>AMOUNT</th>\n",
       "      <th>DATE</th>\n",
       "      <th>GRAPH</th>\n",
       "      <th>HISTORY</th>\n",
       "    </tr>\n",
       "    <tr>\n",
       "      <th>COUNTRY</th>\n",
       "      <th></th>\n",
       "      <th></th>\n",
       "      <th></th>\n",
       "      <th></th>\n",
       "      <th></th>\n",
       "    </tr>\n",
       "  </thead>\n",
       "  <tbody>\n",
       "    <tr>\n",
       "      <th>China</th>\n",
       "      <td>1</td>\n",
       "      <td>389000000.0</td>\n",
       "      <td>2009</td>\n",
       "      <td>NaN</td>\n",
       "      <td>NaN</td>\n",
       "    </tr>\n",
       "    <tr>\n",
       "      <th>United States</th>\n",
       "      <td>2</td>\n",
       "      <td>245000000.0</td>\n",
       "      <td>2009</td>\n",
       "      <td>NaN</td>\n",
       "      <td>NaN</td>\n",
       "    </tr>\n",
       "    <tr>\n",
       "      <th>Japan</th>\n",
       "      <td>3</td>\n",
       "      <td>99180000.0</td>\n",
       "      <td>2009</td>\n",
       "      <td>NaN</td>\n",
       "      <td>NaN</td>\n",
       "    </tr>\n",
       "    <tr>\n",
       "      <th>Brazil</th>\n",
       "      <td>4</td>\n",
       "      <td>75980000.0</td>\n",
       "      <td>2009</td>\n",
       "      <td>NaN</td>\n",
       "      <td>NaN</td>\n",
       "    </tr>\n",
       "    <tr>\n",
       "      <th>Germany</th>\n",
       "      <td>5</td>\n",
       "      <td>65120000.0</td>\n",
       "      <td>2010</td>\n",
       "      <td>NaN</td>\n",
       "      <td>NaN</td>\n",
       "    </tr>\n",
       "    <tr>\n",
       "      <th>...</th>\n",
       "      <td>...</td>\n",
       "      <td>...</td>\n",
       "      <td>...</td>\n",
       "      <td>...</td>\n",
       "      <td>...</td>\n",
       "    </tr>\n",
       "    <tr>\n",
       "      <th>Niue</th>\n",
       "      <td>214</td>\n",
       "      <td>1100</td>\n",
       "      <td>2009</td>\n",
       "      <td>NaN</td>\n",
       "      <td>NaN</td>\n",
       "    </tr>\n",
       "    <tr>\n",
       "      <th>Saint Helena, Ascension, and Tristan da Cunha</th>\n",
       "      <td>=215</td>\n",
       "      <td>900</td>\n",
       "      <td>2009</td>\n",
       "      <td>NaN</td>\n",
       "      <td>NaN</td>\n",
       "    </tr>\n",
       "    <tr>\n",
       "      <th>Saint Helena</th>\n",
       "      <td>=215</td>\n",
       "      <td>900</td>\n",
       "      <td>2009</td>\n",
       "      <td>NaN</td>\n",
       "      <td>NaN</td>\n",
       "    </tr>\n",
       "    <tr>\n",
       "      <th>Tokelau</th>\n",
       "      <td>217</td>\n",
       "      <td>800</td>\n",
       "      <td>2008</td>\n",
       "      <td>NaN</td>\n",
       "      <td>NaN</td>\n",
       "    </tr>\n",
       "    <tr>\n",
       "      <th>Christmas Island</th>\n",
       "      <td>218</td>\n",
       "      <td>464</td>\n",
       "      <td>2001</td>\n",
       "      <td>NaN</td>\n",
       "      <td>NaN</td>\n",
       "    </tr>\n",
       "  </tbody>\n",
       "</table>\n",
       "<p>218 rows × 5 columns</p>\n",
       "</div>"
      ],
      "text/plain": [
       "                                                  #       AMOUNT  DATE  GRAPH  \\\n",
       "COUNTRY                                                                         \n",
       "China                                             1  389000000.0  2009    NaN   \n",
       "United States                                     2  245000000.0  2009    NaN   \n",
       "Japan                                             3   99180000.0  2009    NaN   \n",
       "Brazil                                            4   75980000.0  2009    NaN   \n",
       "Germany                                           5   65120000.0  2010    NaN   \n",
       "...                                             ...          ...   ...    ...   \n",
       "Niue                                            214         1100  2009    NaN   \n",
       "Saint Helena, Ascension, and Tristan da Cunha  =215          900  2009    NaN   \n",
       "Saint Helena                                   =215          900  2009    NaN   \n",
       "Tokelau                                         217          800  2008    NaN   \n",
       "Christmas Island                                218          464  2001    NaN   \n",
       "\n",
       "                                               HISTORY  \n",
       "COUNTRY                                                 \n",
       "China                                              NaN  \n",
       "United States                                      NaN  \n",
       "Japan                                              NaN  \n",
       "Brazil                                             NaN  \n",
       "Germany                                            NaN  \n",
       "...                                                ...  \n",
       "Niue                                               NaN  \n",
       "Saint Helena, Ascension, and Tristan da Cunha      NaN  \n",
       "Saint Helena                                       NaN  \n",
       "Tokelau                                            NaN  \n",
       "Christmas Island                                   NaN  \n",
       "\n",
       "[218 rows x 5 columns]"
      ]
     },
     "execution_count": 18,
     "metadata": {},
     "output_type": "execute_result"
    }
   ],
   "source": [
    "df.loc[df.AMOUNT.str.contains(\"million\"), \"AMOUNT\"] = revised_subset\n",
    "df"
   ]
  },
  {
   "cell_type": "markdown",
   "metadata": {},
   "source": [
    "Almost done.  But the values in the `AMOUNT` column we *didn't* replace still have type text (due to the way Pandas originally constructed the column).  Simplest to just convert the entire column to float."
   ]
  },
  {
   "cell_type": "code",
   "execution_count": 19,
   "metadata": {},
   "outputs": [
    {
     "name": "stdout",
     "output_type": "stream",
     "text": [
      "<class 'pandas.core.frame.DataFrame'>\n",
      "Index: 218 entries, China to Christmas Island\n",
      "Data columns (total 5 columns):\n",
      " #   Column   Non-Null Count  Dtype  \n",
      "---  ------   --------------  -----  \n",
      " 0   #        218 non-null    object \n",
      " 1   AMOUNT   218 non-null    object \n",
      " 2   DATE     218 non-null    int64  \n",
      " 3   GRAPH    0 non-null      float64\n",
      " 4   HISTORY  0 non-null      float64\n",
      "dtypes: float64(2), int64(1), object(2)\n",
      "memory usage: 10.2+ KB\n"
     ]
    }
   ],
   "source": [
    "df.info()"
   ]
  },
  {
   "cell_type": "code",
   "execution_count": 20,
   "metadata": {},
   "outputs": [
    {
     "data": {
      "text/html": [
       "<div>\n",
       "<style scoped>\n",
       "    .dataframe tbody tr th:only-of-type {\n",
       "        vertical-align: middle;\n",
       "    }\n",
       "\n",
       "    .dataframe tbody tr th {\n",
       "        vertical-align: top;\n",
       "    }\n",
       "\n",
       "    .dataframe thead th {\n",
       "        text-align: right;\n",
       "    }\n",
       "</style>\n",
       "<table border=\"1\" class=\"dataframe\">\n",
       "  <thead>\n",
       "    <tr style=\"text-align: right;\">\n",
       "      <th></th>\n",
       "      <th>#</th>\n",
       "      <th>AMOUNT</th>\n",
       "      <th>DATE</th>\n",
       "      <th>GRAPH</th>\n",
       "      <th>HISTORY</th>\n",
       "    </tr>\n",
       "    <tr>\n",
       "      <th>COUNTRY</th>\n",
       "      <th></th>\n",
       "      <th></th>\n",
       "      <th></th>\n",
       "      <th></th>\n",
       "      <th></th>\n",
       "    </tr>\n",
       "  </thead>\n",
       "  <tbody>\n",
       "    <tr>\n",
       "      <th>China</th>\n",
       "      <td>1</td>\n",
       "      <td>389000000.0</td>\n",
       "      <td>2009</td>\n",
       "      <td>NaN</td>\n",
       "      <td>NaN</td>\n",
       "    </tr>\n",
       "    <tr>\n",
       "      <th>United States</th>\n",
       "      <td>2</td>\n",
       "      <td>245000000.0</td>\n",
       "      <td>2009</td>\n",
       "      <td>NaN</td>\n",
       "      <td>NaN</td>\n",
       "    </tr>\n",
       "    <tr>\n",
       "      <th>Japan</th>\n",
       "      <td>3</td>\n",
       "      <td>99180000.0</td>\n",
       "      <td>2009</td>\n",
       "      <td>NaN</td>\n",
       "      <td>NaN</td>\n",
       "    </tr>\n",
       "    <tr>\n",
       "      <th>Brazil</th>\n",
       "      <td>4</td>\n",
       "      <td>75980000.0</td>\n",
       "      <td>2009</td>\n",
       "      <td>NaN</td>\n",
       "      <td>NaN</td>\n",
       "    </tr>\n",
       "    <tr>\n",
       "      <th>Germany</th>\n",
       "      <td>5</td>\n",
       "      <td>65120000.0</td>\n",
       "      <td>2010</td>\n",
       "      <td>NaN</td>\n",
       "      <td>NaN</td>\n",
       "    </tr>\n",
       "    <tr>\n",
       "      <th>...</th>\n",
       "      <td>...</td>\n",
       "      <td>...</td>\n",
       "      <td>...</td>\n",
       "      <td>...</td>\n",
       "      <td>...</td>\n",
       "    </tr>\n",
       "    <tr>\n",
       "      <th>Niue</th>\n",
       "      <td>214</td>\n",
       "      <td>1100.0</td>\n",
       "      <td>2009</td>\n",
       "      <td>NaN</td>\n",
       "      <td>NaN</td>\n",
       "    </tr>\n",
       "    <tr>\n",
       "      <th>Saint Helena, Ascension, and Tristan da Cunha</th>\n",
       "      <td>=215</td>\n",
       "      <td>900.0</td>\n",
       "      <td>2009</td>\n",
       "      <td>NaN</td>\n",
       "      <td>NaN</td>\n",
       "    </tr>\n",
       "    <tr>\n",
       "      <th>Saint Helena</th>\n",
       "      <td>=215</td>\n",
       "      <td>900.0</td>\n",
       "      <td>2009</td>\n",
       "      <td>NaN</td>\n",
       "      <td>NaN</td>\n",
       "    </tr>\n",
       "    <tr>\n",
       "      <th>Tokelau</th>\n",
       "      <td>217</td>\n",
       "      <td>800.0</td>\n",
       "      <td>2008</td>\n",
       "      <td>NaN</td>\n",
       "      <td>NaN</td>\n",
       "    </tr>\n",
       "    <tr>\n",
       "      <th>Christmas Island</th>\n",
       "      <td>218</td>\n",
       "      <td>464.0</td>\n",
       "      <td>2001</td>\n",
       "      <td>NaN</td>\n",
       "      <td>NaN</td>\n",
       "    </tr>\n",
       "  </tbody>\n",
       "</table>\n",
       "<p>218 rows × 5 columns</p>\n",
       "</div>"
      ],
      "text/plain": [
       "                                                  #       AMOUNT  DATE  GRAPH  \\\n",
       "COUNTRY                                                                         \n",
       "China                                             1  389000000.0  2009    NaN   \n",
       "United States                                     2  245000000.0  2009    NaN   \n",
       "Japan                                             3   99180000.0  2009    NaN   \n",
       "Brazil                                            4   75980000.0  2009    NaN   \n",
       "Germany                                           5   65120000.0  2010    NaN   \n",
       "...                                             ...          ...   ...    ...   \n",
       "Niue                                            214       1100.0  2009    NaN   \n",
       "Saint Helena, Ascension, and Tristan da Cunha  =215        900.0  2009    NaN   \n",
       "Saint Helena                                   =215        900.0  2009    NaN   \n",
       "Tokelau                                         217        800.0  2008    NaN   \n",
       "Christmas Island                                218        464.0  2001    NaN   \n",
       "\n",
       "                                               HISTORY  \n",
       "COUNTRY                                                 \n",
       "China                                              NaN  \n",
       "United States                                      NaN  \n",
       "Japan                                              NaN  \n",
       "Brazil                                             NaN  \n",
       "Germany                                            NaN  \n",
       "...                                                ...  \n",
       "Niue                                               NaN  \n",
       "Saint Helena, Ascension, and Tristan da Cunha      NaN  \n",
       "Saint Helena                                       NaN  \n",
       "Tokelau                                            NaN  \n",
       "Christmas Island                                   NaN  \n",
       "\n",
       "[218 rows x 5 columns]"
      ]
     },
     "execution_count": 20,
     "metadata": {},
     "output_type": "execute_result"
    }
   ],
   "source": [
    "df.AMOUNT = df.AMOUNT.astype(float)\n",
    "df"
   ]
  },
  {
   "cell_type": "code",
   "execution_count": 21,
   "metadata": {},
   "outputs": [
    {
     "name": "stdout",
     "output_type": "stream",
     "text": [
      "<class 'pandas.core.frame.DataFrame'>\n",
      "Index: 218 entries, China to Christmas Island\n",
      "Data columns (total 5 columns):\n",
      " #   Column   Non-Null Count  Dtype  \n",
      "---  ------   --------------  -----  \n",
      " 0   #        218 non-null    object \n",
      " 1   AMOUNT   218 non-null    float64\n",
      " 2   DATE     218 non-null    int64  \n",
      " 3   GRAPH    0 non-null      float64\n",
      " 4   HISTORY  0 non-null      float64\n",
      "dtypes: float64(3), int64(1), object(1)\n",
      "memory usage: 10.2+ KB\n"
     ]
    }
   ],
   "source": [
    "df.info()"
   ]
  },
  {
   "cell_type": "markdown",
   "metadata": {},
   "source": [
    "Here's the payoff:"
   ]
  },
  {
   "cell_type": "code",
   "execution_count": 22,
   "metadata": {},
   "outputs": [
    {
     "data": {
      "text/plain": [
       "count    2.180000e+02\n",
       "mean     8.523142e+06\n",
       "std      3.335812e+07\n",
       "min      4.640000e+02\n",
       "25%      8.730000e+04\n",
       "50%      7.082000e+05\n",
       "75%      4.427500e+06\n",
       "max      3.890000e+08\n",
       "Name: AMOUNT, dtype: float64"
      ]
     },
     "execution_count": 22,
     "metadata": {},
     "output_type": "execute_result"
    }
   ],
   "source": [
    "df.AMOUNT.describe()"
   ]
  },
  {
   "cell_type": "markdown",
   "metadata": {},
   "source": [
    "## Using BeautifulSoup for more control\n",
    "You can use BeautifulSoup, an HTML parser, for greater control in selecting which table to pass to Pandas."
   ]
  },
  {
   "cell_type": "code",
   "execution_count": 23,
   "metadata": {},
   "outputs": [],
   "source": [
    "from bs4 import BeautifulSoup"
   ]
  },
  {
   "cell_type": "code",
   "execution_count": 24,
   "metadata": {},
   "outputs": [],
   "source": [
    "soup = BeautifulSoup(page.content)"
   ]
  },
  {
   "cell_type": "markdown",
   "metadata": {},
   "source": [
    "Returns an object."
   ]
  },
  {
   "cell_type": "code",
   "execution_count": 25,
   "metadata": {},
   "outputs": [
    {
     "data": {
      "text/plain": [
       "bs4.BeautifulSoup"
      ]
     },
     "execution_count": 25,
     "metadata": {},
     "output_type": "execute_result"
    }
   ],
   "source": [
    "type(soup)"
   ]
  },
  {
   "cell_type": "markdown",
   "metadata": {},
   "source": [
    "HTML elements can be found various ways."
   ]
  },
  {
   "cell_type": "code",
   "execution_count": 26,
   "metadata": {},
   "outputs": [
    {
     "data": {
      "text/plain": [
       "<title>Countries Compared by Media &gt; Internet users. International Statistics at NationMaster.com</title>"
      ]
     },
     "execution_count": 26,
     "metadata": {},
     "output_type": "execute_result"
    }
   ],
   "source": [
    "soup.title"
   ]
  },
  {
   "cell_type": "code",
   "execution_count": 27,
   "metadata": {},
   "outputs": [],
   "source": [
    "tables = soup.find_all(\"table\")"
   ]
  },
  {
   "cell_type": "code",
   "execution_count": 28,
   "metadata": {},
   "outputs": [
    {
     "data": {
      "text/plain": [
       "2"
      ]
     },
     "execution_count": 28,
     "metadata": {},
     "output_type": "execute_result"
    }
   ],
   "source": [
    "len(tables)"
   ]
  },
  {
   "cell_type": "markdown",
   "metadata": {},
   "source": [
    "Each HTML element is actually an object that must be converted to a string before passing to Pandas."
   ]
  },
  {
   "cell_type": "code",
   "execution_count": 29,
   "metadata": {},
   "outputs": [
    {
     "data": {
      "text/plain": [
       "bs4.element.Tag"
      ]
     },
     "execution_count": 29,
     "metadata": {},
     "output_type": "execute_result"
    }
   ],
   "source": [
    "type(tables[0])"
   ]
  },
  {
   "cell_type": "markdown",
   "metadata": {},
   "source": [
    "Note that Pandas will still return a list even if there's only one dataframe."
   ]
  },
  {
   "cell_type": "code",
   "execution_count": 30,
   "metadata": {},
   "outputs": [],
   "source": [
    "frames = pd.read_html(str(tables[0]))"
   ]
  },
  {
   "cell_type": "markdown",
   "metadata": {},
   "source": [
    "Now proceed as before."
   ]
  }
 ],
 "metadata": {
  "kernelspec": {
   "display_name": "Python 3",
   "language": "python",
   "name": "python3"
  },
  "language_info": {
   "codemirror_mode": {
    "name": "ipython",
    "version": 3
   },
   "file_extension": ".py",
   "mimetype": "text/x-python",
   "name": "python",
   "nbconvert_exporter": "python",
   "pygments_lexer": "ipython3",
   "version": "3.7.11"
  }
 },
 "nbformat": 4,
 "nbformat_minor": 4
}
